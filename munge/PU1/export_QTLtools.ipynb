{
 "cells": [
  {
   "cell_type": "code",
   "execution_count": null,
   "id": "surrounded-context",
   "metadata": {},
   "outputs": [],
   "source": [
    "library(\"dplyr\")\n",
    "library(\"cqn\")\n",
    "# library(\"devtools\")\n",
    "library(\"SummarizedExperiment\")\n",
    "library(\"rtracklayer\")\n",
    "library(\"seqUtils\")"
   ]
  },
  {
   "cell_type": "code",
   "execution_count": null,
   "id": "velvet-cookbook",
   "metadata": {},
   "outputs": [],
   "source": [
    ".libPaths()"
   ]
  },
  {
   "cell_type": "code",
   "execution_count": null,
   "id": "stretch-placement",
   "metadata": {},
   "outputs": [],
   "source": [
    "getwd()"
   ]
  },
  {
   "cell_type": "code",
   "execution_count": null,
   "id": "cathedral-waters",
   "metadata": {},
   "outputs": [],
   "source": [
    "setwd('/mnt/DATA/Blood_ATAC')"
   ]
  },
  {
   "cell_type": "code",
   "execution_count": null,
   "id": "august-parish",
   "metadata": {},
   "outputs": [],
   "source": [
    "# Import RDS\n",
    "PU1_se = readRDS(\"results/SummarizedExperiment/PU1_SummarizedExperiment.rds\")\n",
    "head(PU1_se)"
   ]
  },
  {
   "cell_type": "code",
   "execution_count": null,
   "id": "agricultural-foster",
   "metadata": {},
   "outputs": [],
   "source": [
    "#Keep only autosomal chromosomes\n",
    "valid_chr = c(\"chr1\", \"chr2\", \"chr3\", \"chr4\", \"chr5\", \"chr6\", \"chr7\", \"chr8\", \"chr9\", \"chr10\", \"chr11\", \"chr12\", \"chr13\", \"chr14\", \"chr15\", \"chr16\", \"chr17\", \"chr18\", \"chr19\", \"chr20\", \"chr21\", \"chr22\", \"chrX\", \"chrY\")\n",
    "valid_rows = rowData(PU1_se)[rowData(PU1_se)$chr %in% valid_chr,]\n",
    "filtered_se = PU1_se[valid_rows$gene_id,]\n",
    "head(filtered_se)\n",
    "head(rownames(valid_rows))"
   ]
  },
  {
   "cell_type": "code",
   "execution_count": null,
   "id": "changing-january",
   "metadata": {},
   "outputs": [],
   "source": [
    "#Rename columns to remove the trailing \"_PU1\"\n",
    "colnames(filtered_se) = filtered_se$genotype_id\n",
    "head(filtered_se)"
   ]
  },
  {
   "cell_type": "code",
   "execution_count": null,
   "id": "detected-knowing",
   "metadata": {},
   "outputs": [],
   "source": [
    "#Extract data\n",
    "event_metadata = rowData(filtered_se) %>% tbl_df()\n",
    "head(event_metadata)"
   ]
  },
  {
   "cell_type": "code",
   "execution_count": null,
   "id": "cooked-glossary",
   "metadata": {},
   "outputs": [],
   "source": [
    "#Construct metadata\n",
    "genepos = dplyr::mutate(event_metadata, transcript_id = gene_id, gene_id = gene_id) %>% constructQTLtoolsGenePos()\n",
    "output_path = \"processed/PU1/qtltools/input/cqn/\""
   ]
  },
  {
   "cell_type": "code",
   "execution_count": null,
   "id": "frank-supply",
   "metadata": {},
   "outputs": [],
   "source": [
    "#Make qtltools matrix\n",
    "matrix = prepareQTLtoolsMatrix(assays(filtered_se)$cqn, genepos)\n",
    "saveFastqtlMatrices(list(PU1 = matrix), output_path, file_suffix = \"norm_prop\")"
   ]
  }
 ],
 "metadata": {
  "kernelspec": {
   "display_name": "R",
   "language": "R",
   "name": "ir"
  },
  "language_info": {
   "codemirror_mode": "r",
   "file_extension": ".r",
   "mimetype": "text/x-r-source",
   "name": "R",
   "pygments_lexer": "r",
   "version": "4.0.3"
  }
 },
 "nbformat": 4,
 "nbformat_minor": 5
}
